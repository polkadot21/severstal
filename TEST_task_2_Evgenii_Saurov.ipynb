{
 "cells": [
  {
   "cell_type": "code",
   "execution_count": 2,
   "metadata": {},
   "outputs": [],
   "source": [
    "import pandas as pd\n",
    "import xgboost as xgb\n",
    "from sklearn.model_selection import train_test_split\n",
    "import matplotlib.pyplot as plt\n",
    "import seaborn as sns\n",
    "from sklearn.metrics import mean_absolute_error"
   ]
  },
  {
   "cell_type": "code",
   "execution_count": 3,
   "metadata": {},
   "outputs": [],
   "source": [
    "#create a dataframe \n",
    "\n",
    "df = pd.read_csv('X_data.csv')"
   ]
  },
  {
   "cell_type": "code",
   "execution_count": 4,
   "metadata": {},
   "outputs": [],
   "source": [
    "#separate columns\n",
    "\n",
    "df['date'],df['1_1'], df['1_2'], df['1_3'], df['2_1'], df['2_2'], df['2_3'], df['3_1'], df['3_2'], df['3_3'],df['4_1'], df['4_2'], df['4_3'],df['5_1'], df['5_2'], df['5_3'],df['H_data'],df['AH_data'] = df[';T_data_1_1;T_data_1_2;\\\n",
    "T_data_1_3;T_data_2_1;T_data_2_2;T_data_2_3;T_data_3_1;\\\n",
    "T_data_3_2;T_data_3_3;T_data_4_1;T_data_4_2;T_data_4_3;\\\n",
    "T_data_5_1;T_data_5_2;T_data_5_3;H_data;AH_data'].str.split(';').str\n",
    "\n",
    "#drop the initial column\n",
    "\n",
    "df_ = df.drop([';T_data_1_1;T_data_1_2;\\\n",
    "T_data_1_3;T_data_2_1;T_data_2_2;T_data_2_3;T_data_3_1;\\\n",
    "T_data_3_2;T_data_3_3;T_data_4_1;T_data_4_2;T_data_4_3;\\\n",
    "T_data_5_1;T_data_5_2;T_data_5_3;H_data;AH_data'], axis = 1)"
   ]
  },
  {
   "cell_type": "code",
   "execution_count": 6,
   "metadata": {},
   "outputs": [],
   "source": [
    "#change str to int\n",
    "\n",
    "df_['1_1'], df_['1_2'], df_['1_3'], df_['2_1'], df_['2_2'], df_['2_3'], df_['3_1'], df_['3_2'], df_['3_3'],df_['4_1'], df_['4_2'], df_['4_3'],df_['5_1'], df_['5_2'], df_['5_3'],df_['H_data'],df_['AH_data'] = df_['1_1'].astype(int), df_['1_2'].astype(int), df_['1_3'].astype(int), df_['2_1'].astype(int), df_['2_2'].astype(int), df_['2_3'].astype(int), df_['3_1'].astype(int), df_['3_2'].astype(int), df_['3_3'].astype(int),df_['4_1'].astype(int), df_['4_2'].astype(int), df_['4_3'].astype(int),df_['5_1'].astype(int), df_['5_2'].astype(int), df_['5_3'].astype(int),df_['H_data'].astype(float),df_['AH_data'].astype(float)\n",
    "\n"
   ]
  },
  {
   "cell_type": "code",
   "execution_count": 7,
   "metadata": {},
   "outputs": [],
   "source": [
    "#create a new dataframe\n",
    "\n",
    "df_train = pd.read_csv('Y_train.csv', header = None, prefix = 'var')"
   ]
  },
  {
   "cell_type": "code",
   "execution_count": 8,
   "metadata": {},
   "outputs": [],
   "source": [
    "#separate columns\n",
    "\n",
    "df_train['date'], df_train['result'] = df_train['var0'].str.split(';').str\n",
    "df_train_ = df_train.drop(['var0'], axis = 1)"
   ]
  },
  {
   "cell_type": "code",
   "execution_count": 9,
   "metadata": {},
   "outputs": [],
   "source": [
    "#add training data to the first data frame\n",
    "\n",
    "df_full = pd.merge(df_, df_train_, on='date', how='inner')"
   ]
  },
  {
   "cell_type": "code",
   "execution_count": 10,
   "metadata": {},
   "outputs": [
    {
     "name": "stdout",
     "output_type": "stream",
     "text": [
      "(29184, 19)\n"
     ]
    },
    {
     "data": {
      "text/html": [
       "<div>\n",
       "<style scoped>\n",
       "    .dataframe tbody tr th:only-of-type {\n",
       "        vertical-align: middle;\n",
       "    }\n",
       "\n",
       "    .dataframe tbody tr th {\n",
       "        vertical-align: top;\n",
       "    }\n",
       "\n",
       "    .dataframe thead th {\n",
       "        text-align: right;\n",
       "    }\n",
       "</style>\n",
       "<table border=\"1\" class=\"dataframe\">\n",
       "  <thead>\n",
       "    <tr style=\"text-align: right;\">\n",
       "      <th></th>\n",
       "      <th>date</th>\n",
       "      <th>1_1</th>\n",
       "      <th>1_2</th>\n",
       "      <th>1_3</th>\n",
       "      <th>2_1</th>\n",
       "      <th>2_2</th>\n",
       "      <th>2_3</th>\n",
       "      <th>3_1</th>\n",
       "      <th>3_2</th>\n",
       "      <th>3_3</th>\n",
       "      <th>4_1</th>\n",
       "      <th>4_2</th>\n",
       "      <th>4_3</th>\n",
       "      <th>5_1</th>\n",
       "      <th>5_2</th>\n",
       "      <th>5_3</th>\n",
       "      <th>H_data</th>\n",
       "      <th>AH_data</th>\n",
       "      <th>result</th>\n",
       "    </tr>\n",
       "  </thead>\n",
       "  <tbody>\n",
       "    <tr>\n",
       "      <th>0</th>\n",
       "      <td>2015-01-04 00:05:00</td>\n",
       "      <td>277</td>\n",
       "      <td>326</td>\n",
       "      <td>273</td>\n",
       "      <td>322</td>\n",
       "      <td>335</td>\n",
       "      <td>352</td>\n",
       "      <td>505</td>\n",
       "      <td>501</td>\n",
       "      <td>670</td>\n",
       "      <td>326</td>\n",
       "      <td>379</td>\n",
       "      <td>337</td>\n",
       "      <td>231</td>\n",
       "      <td>236</td>\n",
       "      <td>242</td>\n",
       "      <td>153.77</td>\n",
       "      <td>7.90</td>\n",
       "      <td>392</td>\n",
       "    </tr>\n",
       "    <tr>\n",
       "      <th>1</th>\n",
       "      <td>2015-01-04 01:05:00</td>\n",
       "      <td>277</td>\n",
       "      <td>253</td>\n",
       "      <td>272</td>\n",
       "      <td>320</td>\n",
       "      <td>333</td>\n",
       "      <td>355</td>\n",
       "      <td>500</td>\n",
       "      <td>501</td>\n",
       "      <td>687</td>\n",
       "      <td>337</td>\n",
       "      <td>396</td>\n",
       "      <td>335</td>\n",
       "      <td>234</td>\n",
       "      <td>242</td>\n",
       "      <td>230</td>\n",
       "      <td>158.27</td>\n",
       "      <td>6.96</td>\n",
       "      <td>384</td>\n",
       "    </tr>\n",
       "    <tr>\n",
       "      <th>2</th>\n",
       "      <td>2015-01-04 02:05:00</td>\n",
       "      <td>262</td>\n",
       "      <td>218</td>\n",
       "      <td>260</td>\n",
       "      <td>326</td>\n",
       "      <td>336</td>\n",
       "      <td>330</td>\n",
       "      <td>505</td>\n",
       "      <td>499</td>\n",
       "      <td>443</td>\n",
       "      <td>347</td>\n",
       "      <td>399</td>\n",
       "      <td>332</td>\n",
       "      <td>243</td>\n",
       "      <td>251</td>\n",
       "      <td>240</td>\n",
       "      <td>153.36</td>\n",
       "      <td>7.29</td>\n",
       "      <td>393</td>\n",
       "    </tr>\n",
       "    <tr>\n",
       "      <th>3</th>\n",
       "      <td>2015-01-04 03:05:00</td>\n",
       "      <td>243</td>\n",
       "      <td>238</td>\n",
       "      <td>252</td>\n",
       "      <td>327</td>\n",
       "      <td>329</td>\n",
       "      <td>308</td>\n",
       "      <td>520</td>\n",
       "      <td>498</td>\n",
       "      <td>540</td>\n",
       "      <td>342</td>\n",
       "      <td>387</td>\n",
       "      <td>334</td>\n",
       "      <td>257</td>\n",
       "      <td>258</td>\n",
       "      <td>246</td>\n",
       "      <td>153.21</td>\n",
       "      <td>7.11</td>\n",
       "      <td>399</td>\n",
       "    </tr>\n",
       "    <tr>\n",
       "      <th>4</th>\n",
       "      <td>2015-01-04 04:05:00</td>\n",
       "      <td>236</td>\n",
       "      <td>238</td>\n",
       "      <td>245</td>\n",
       "      <td>323</td>\n",
       "      <td>320</td>\n",
       "      <td>318</td>\n",
       "      <td>522</td>\n",
       "      <td>501</td>\n",
       "      <td>524</td>\n",
       "      <td>343</td>\n",
       "      <td>371</td>\n",
       "      <td>344</td>\n",
       "      <td>264</td>\n",
       "      <td>263</td>\n",
       "      <td>265</td>\n",
       "      <td>195.71</td>\n",
       "      <td>7.97</td>\n",
       "      <td>400</td>\n",
       "    </tr>\n",
       "  </tbody>\n",
       "</table>\n",
       "</div>"
      ],
      "text/plain": [
       "                  date  1_1  1_2  1_3  2_1  2_2  2_3  3_1  3_2  3_3  4_1  4_2  \\\n",
       "0  2015-01-04 00:05:00  277  326  273  322  335  352  505  501  670  326  379   \n",
       "1  2015-01-04 01:05:00  277  253  272  320  333  355  500  501  687  337  396   \n",
       "2  2015-01-04 02:05:00  262  218  260  326  336  330  505  499  443  347  399   \n",
       "3  2015-01-04 03:05:00  243  238  252  327  329  308  520  498  540  342  387   \n",
       "4  2015-01-04 04:05:00  236  238  245  323  320  318  522  501  524  343  371   \n",
       "\n",
       "   4_3  5_1  5_2  5_3  H_data  AH_data result  \n",
       "0  337  231  236  242  153.77     7.90    392  \n",
       "1  335  234  242  230  158.27     6.96    384  \n",
       "2  332  243  251  240  153.36     7.29    393  \n",
       "3  334  257  258  246  153.21     7.11    399  \n",
       "4  344  264  263  265  195.71     7.97    400  "
      ]
     },
     "execution_count": 10,
     "metadata": {},
     "output_type": "execute_result"
    }
   ],
   "source": [
    "#check the full data frame\n",
    "\n",
    "print(df_full.shape)\n",
    "df_full.head()"
   ]
  },
  {
   "cell_type": "code",
   "execution_count": 14,
   "metadata": {},
   "outputs": [],
   "source": [
    "#set X and y\n",
    "\n",
    "X = df_full[['1_1' , '1_2' , '1_3' ,\n",
    "             '2_1' , '2_2' , '2_3' ,\n",
    "             '3_1' , '3_2' , '3_3' ,\n",
    "             '4_1' , '4_2' , '4_3' ,\n",
    "             '5_1' , '5_2' , '5_3' ,\n",
    "             'H_data' ,\n",
    "             'AH_data']]\n",
    "y = df_full['result']\n",
    "y_int = y.astype(int)"
   ]
  },
  {
   "cell_type": "code",
   "execution_count": 15,
   "metadata": {},
   "outputs": [],
   "source": [
    "#create new columns with mean values\n",
    "\n",
    "#1\n",
    "#col_1 = X.loc[: , \"1_1\":\"1_3\"]\n",
    "#X['1_mean'] = col_1.mean(axis=1)\n",
    "#2\n",
    "#col_2 = X.loc[: , \"2_1\":\"2_3\"]\n",
    "#X['2_mean'] = col_2.mean(axis=1)\n",
    "#3\n",
    "#col_3 = X.loc[: , \"3_1\":\"3_3\"]\n",
    "#X['3_mean'] = col_3.mean(axis=1)\n",
    "#4\n",
    "#col_4 = X.loc[: , \"4_1\":\"4_3\"]\n",
    "#X['4_mean'] = col_4.mean(axis=1)\n",
    "#5\n",
    "#col_5 = X.loc[: , \"5_1\":\"5_3\"]\n",
    "#X['5_mean'] = col_5.mean(axis=1)\n"
   ]
  },
  {
   "cell_type": "code",
   "execution_count": 16,
   "metadata": {},
   "outputs": [],
   "source": [
    "#set X_ with mean values\n",
    "\n",
    "#X_ = X[['1_mean' , '2_mean' , '3_mean' , '4_mean' , '5_mean' , 'H_data' , 'AH_data']]"
   ]
  },
  {
   "cell_type": "code",
   "execution_count": 51,
   "metadata": {},
   "outputs": [
    {
     "name": "stdout",
     "output_type": "stream",
     "text": [
      "[11:16:56] WARNING: /usr/local/miniconda/conda-bld/xgboost_1584539872846/work/src/objective/regression_obj.cu:167: reg:linear is now deprecated in favor of reg:squarederror.\n",
      "[11:16:56] WARNING: /usr/local/miniconda/conda-bld/xgboost_1584539872846/work/src/objective/regression_obj.cu:167: reg:linear is now deprecated in favor of reg:squarederror.\n",
      "[11:16:56] WARNING: /usr/local/miniconda/conda-bld/xgboost_1584539872846/work/src/objective/regression_obj.cu:167: reg:linear is now deprecated in favor of reg:squarederror.\n"
     ]
    },
    {
     "data": {
      "text/plain": [
       "49    11.607027\n",
       "Name: test-mae-mean, dtype: float64"
      ]
     },
     "execution_count": 51,
     "metadata": {},
     "output_type": "execute_result"
    }
   ],
   "source": [
    "#cross-validation with 3 folds\n",
    "#data_dmatrix = xgb.DMatrix(data = X, label = y_int)\n",
    "\n",
    "#params = {\"objective\":\"reg:linear\",'colsample_bytree': 0.3,'learning_rate': 0.1,\n",
    "#                'max_depth': 5, 'alpha': 10}\n",
    "\n",
    "#cv_results = xgb.cv(dtrain=data_dmatrix, params=params, nfold=3,\n",
    "#                   num_boost_round=50,early_stopping_rounds=10,metrics=\"mae\", as_pandas=True, seed=123)\n",
    "\n",
    "#cv_results['test-mae-mean'].tail(1)"
   ]
  },
  {
   "cell_type": "code",
   "execution_count": 52,
   "metadata": {},
   "outputs": [
    {
     "name": "stdout",
     "output_type": "stream",
     "text": [
      "[444.2277  315.41022 359.3278  ... 444.9042  422.21967 422.73264]\n",
      "MAE =  10.158007642658635\n"
     ]
    }
   ],
   "source": [
    "#split set in a train and a test group\n",
    "\n",
    "X_train, X_test, y_train, y_test = train_test_split(X, y_int, test_size=0.33, random_state=42)\n",
    "\n",
    "#learn model, make predictions, validate the model on the test dataframe\n",
    "\n",
    "XGB = xgb.XGBRegressor(n_estimators=100, learning_rate=0.08, gamma=0, subsample=0.75,\n",
    "                           colsample_bytree=1, max_depth=8)\n",
    "XGB.fit(X_train, y_train)\n",
    "predictions = XGB.predict(X_test)\n",
    "print(predictions)\n",
    "print('MAE = ' , mean_absolute_error(y_test, predictions))\n",
    "\n"
   ]
  },
  {
   "cell_type": "code",
   "execution_count": 55,
   "metadata": {},
   "outputs": [],
   "source": [
    "#create a new dataframe\n",
    "\n",
    "Y_submit = pd.read_csv('Y_submit.csv', header = None, prefix = 'var')\n",
    "\n",
    "#split columns, drop the column with results\n",
    "Y_submit['date'], Y_submit['result'] = Y_submit['var0'].str.split(';').str\n",
    "Y_submit_ = Y_submit.drop(['var0'], axis = 1)\n",
    "Y_submit_date = Y_submit_.drop(['result'], axis = 1)\n",
    "#Y_submit_date"
   ]
  },
  {
   "cell_type": "code",
   "execution_count": 56,
   "metadata": {},
   "outputs": [],
   "source": [
    "#create a new dataframe, where the results should be predicted\n",
    "\n",
    "df_full_submit = pd.merge(df_, Y_submit_date, on='date', how='inner')\n",
    "#df_full_submit.head()"
   ]
  },
  {
   "cell_type": "code",
   "execution_count": 57,
   "metadata": {},
   "outputs": [],
   "source": [
    "#set X\n",
    "\n",
    "X_submit = df_full_submit[['1_1' , '1_2' , '1_3' ,\n",
    "                           '2_1' , '2_2' , '2_3' ,\n",
    "                           '3_1' , '3_2' , '3_3' ,\n",
    "                           '4_1' , '4_2' , '4_3' ,\n",
    "                           '5_1' , '5_2' , '5_3' ,\n",
    "                           'H_data' ,\n",
    "                           'AH_data']]"
   ]
  },
  {
   "cell_type": "code",
   "execution_count": 65,
   "metadata": {},
   "outputs": [
    {
     "name": "stdout",
     "output_type": "stream",
     "text": [
      "[436.3783  441.64215 415.34232 ... 453.49753 443.58932 445.04984]\n"
     ]
    }
   ],
   "source": [
    "#predict\n",
    "\n",
    "predictions_submit = XGB.predict(X_submit)\n",
    "print(predictions_submit)"
   ]
  },
  {
   "cell_type": "code",
   "execution_count": 67,
   "metadata": {},
   "outputs": [
    {
     "data": {
      "text/plain": [
       "(5808, 2)"
      ]
     },
     "execution_count": 67,
     "metadata": {},
     "output_type": "execute_result"
    }
   ],
   "source": [
    "#add predicted results to the Y dataset\n",
    "\n",
    "Y_submit_date['submit'] = predictions_submit.astype(int)\n",
    "Y_submit_date.shape"
   ]
  },
  {
   "cell_type": "code",
   "execution_count": 69,
   "metadata": {},
   "outputs": [],
   "source": [
    "#save Y dataset as a .csv file with the name 'Y_submit.csv' and no header\n",
    "\n",
    "Y_submit_date.to_csv('Y_submit.csv', encoding='utf-8', index=False, header = None)"
   ]
  }
 ],
 "metadata": {
  "kernelspec": {
   "display_name": "Python 3",
   "language": "python",
   "name": "python3"
  },
  "language_info": {
   "codemirror_mode": {
    "name": "ipython",
    "version": 3
   },
   "file_extension": ".py",
   "mimetype": "text/x-python",
   "name": "python",
   "nbconvert_exporter": "python",
   "pygments_lexer": "ipython3",
   "version": "3.7.3"
  }
 },
 "nbformat": 4,
 "nbformat_minor": 2
}
